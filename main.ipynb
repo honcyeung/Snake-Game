{
 "cells": [
  {
   "cell_type": "code",
   "execution_count": null,
   "id": "164d8628",
   "metadata": {},
   "outputs": [],
   "source": [
    "from turtle import Screen\n",
    "import time\n",
    "from snake import *\n",
    "from food import *\n",
    "from scoreboard import *\n",
    "\n",
    "screen = Screen()\n",
    "screen.setup(width = 600, height = 600)\n",
    "screen.bgcolor('black')\n",
    "screen.title('My Snake Game')\n",
    "screen.tracer(0)\n",
    "\n",
    "snake = Snake()\n",
    "food = Food()\n",
    "scoreboard = Scoreboard()\n",
    "screen.listen()\n",
    "\n",
    "screen.onkey(snake.up, 'Up')\n",
    "screen.onkey(snake.down, 'Down')\n",
    "screen.onkey(snake.left, 'Left')\n",
    "screen.onkey(snake.right, 'Right')\n",
    "    \n",
    "game = True\n",
    "while game:\n",
    "    screen.update()\n",
    "    time.sleep(0.1)\n",
    "    snake.move()\n",
    "\n",
    "    # detect collision with food\n",
    "    if snake.head.distance(food) < 15:\n",
    "        food.refresh()\n",
    "        snake.extend()\n",
    "        scoreboard.increase_score()\n",
    "        \n",
    "    # detect collision with walls\n",
    "    if snake.head.xcor() > 280 or snake.head.xcor() < -280 or snake.head.ycor() > 280 or snake.head.ycor() < -280:\n",
    "        scoreboard.reset()\n",
    "        snake.reset()\n",
    "        \n",
    "    # detect collision with tail\n",
    "    for segment in snake.segments[1:]:\n",
    "        if snake.head.distance(segment) < 10:\n",
    "            scoreboard.reset()\n",
    "            snake.reset()\n",
    "    \n",
    "screen.exitonclick()"
   ]
  },
  {
   "cell_type": "code",
   "execution_count": null,
   "id": "f8d66b4e",
   "metadata": {},
   "outputs": [],
   "source": []
  }
 ],
 "metadata": {
  "kernelspec": {
   "display_name": "Python 3",
   "language": "python",
   "name": "python3"
  }
 },
 "nbformat": 4,
 "nbformat_minor": 5
}
